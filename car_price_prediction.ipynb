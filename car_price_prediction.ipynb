{
 "cells": [
  {
   "cell_type": "code",
   "execution_count": 1,
   "id": "e7c891c2",
   "metadata": {},
   "outputs": [],
   "source": [
    "import numpy as np \n",
    "import pandas as pd \n",
    "import seaborn as sns\n",
    "from matplotlib import pyplot as plt\n",
    "\n",
    "from sklearn.model_selection import train_test_split\n",
    "from sklearn.linear_model import LogisticRegression\n",
    "from sklearn.tree import DecisionTreeClassifier\n",
    "from sklearn.ensemble import RandomForestClassifier, ExtraTreesClassifier\n",
    "from xgboost import XGBClassifier\n",
    "from sklearn.metrics import *\n",
    "from sklearn.model_selection import *\n",
    "from catboost import CatBoostRegressor\n",
    "from sklearn.ensemble import RandomForestRegressor\n",
    "from sklearn.linear_model import LinearRegression\n",
    "from sklearn import metrics\n",
    "from sklearn import preprocessing\n",
    "from sklearn import model_selection\n",
    "from sklearn.metrics import classification_report, confusion_matrix, roc_curve, roc_auc_score,auc, accuracy_score"
   ]
  },
  {
   "cell_type": "code",
   "execution_count": 2,
   "id": "6ebe3991",
   "metadata": {},
   "outputs": [
    {
     "data": {
      "text/html": [
       "<div>\n",
       "<style scoped>\n",
       "    .dataframe tbody tr th:only-of-type {\n",
       "        vertical-align: middle;\n",
       "    }\n",
       "\n",
       "    .dataframe tbody tr th {\n",
       "        vertical-align: top;\n",
       "    }\n",
       "\n",
       "    .dataframe thead th {\n",
       "        text-align: right;\n",
       "    }\n",
       "</style>\n",
       "<table border=\"1\" class=\"dataframe\">\n",
       "  <thead>\n",
       "    <tr style=\"text-align: right;\">\n",
       "      <th></th>\n",
       "      <th>Location</th>\n",
       "      <th>Maker</th>\n",
       "      <th>Model</th>\n",
       "      <th>Year</th>\n",
       "      <th>Colour</th>\n",
       "      <th>Amount (Million Naira)</th>\n",
       "      <th>Type</th>\n",
       "      <th>Distance</th>\n",
       "    </tr>\n",
       "  </thead>\n",
       "  <tbody>\n",
       "    <tr>\n",
       "      <th>0</th>\n",
       "      <td>Abuja</td>\n",
       "      <td>Honda</td>\n",
       "      <td>Accord Coupe EX V-6</td>\n",
       "      <td>2,011</td>\n",
       "      <td>Silver</td>\n",
       "      <td>2.20</td>\n",
       "      <td>Nigerian Used</td>\n",
       "      <td>NaN</td>\n",
       "    </tr>\n",
       "    <tr>\n",
       "      <th>1</th>\n",
       "      <td>Ibadan</td>\n",
       "      <td>Hyundai</td>\n",
       "      <td>Sonata</td>\n",
       "      <td>2,012</td>\n",
       "      <td>Silver</td>\n",
       "      <td>3.50</td>\n",
       "      <td>Nigerian Used</td>\n",
       "      <td>125,000</td>\n",
       "    </tr>\n",
       "    <tr>\n",
       "      <th>2</th>\n",
       "      <td>Lagos</td>\n",
       "      <td>Lexus</td>\n",
       "      <td>RX 350</td>\n",
       "      <td>2,010</td>\n",
       "      <td>Red</td>\n",
       "      <td>9.20</td>\n",
       "      <td>Foreign Used</td>\n",
       "      <td>110,852</td>\n",
       "    </tr>\n",
       "    <tr>\n",
       "      <th>3</th>\n",
       "      <td>Abuja</td>\n",
       "      <td>Mercedes-Benz</td>\n",
       "      <td>GLE-Class</td>\n",
       "      <td>2,017</td>\n",
       "      <td>Blue</td>\n",
       "      <td>22.80</td>\n",
       "      <td>Foreign Used</td>\n",
       "      <td>30,000</td>\n",
       "    </tr>\n",
       "    <tr>\n",
       "      <th>4</th>\n",
       "      <td>Ibadan</td>\n",
       "      <td>Toyota</td>\n",
       "      <td>Highlander</td>\n",
       "      <td>2,002</td>\n",
       "      <td>Red</td>\n",
       "      <td>2.60</td>\n",
       "      <td>Nigerian Used</td>\n",
       "      <td>125,206</td>\n",
       "    </tr>\n",
       "    <tr>\n",
       "      <th>...</th>\n",
       "      <td>...</td>\n",
       "      <td>...</td>\n",
       "      <td>...</td>\n",
       "      <td>...</td>\n",
       "      <td>...</td>\n",
       "      <td>...</td>\n",
       "      <td>...</td>\n",
       "      <td>...</td>\n",
       "    </tr>\n",
       "    <tr>\n",
       "      <th>7200</th>\n",
       "      <td>Abuja</td>\n",
       "      <td>Honda</td>\n",
       "      <td>Civic</td>\n",
       "      <td>2,018</td>\n",
       "      <td>Gray</td>\n",
       "      <td>5.70</td>\n",
       "      <td>Foreign Used</td>\n",
       "      <td>65,000</td>\n",
       "    </tr>\n",
       "    <tr>\n",
       "      <th>7201</th>\n",
       "      <td>Abuja</td>\n",
       "      <td>BMW</td>\n",
       "      <td>X3</td>\n",
       "      <td>2,007</td>\n",
       "      <td>White</td>\n",
       "      <td>4.00</td>\n",
       "      <td>Nigerian Used</td>\n",
       "      <td>200,000</td>\n",
       "    </tr>\n",
       "    <tr>\n",
       "      <th>7202</th>\n",
       "      <td>Abuja</td>\n",
       "      <td>Toyota</td>\n",
       "      <td>RAV4 2.5 Limited 4x4</td>\n",
       "      <td>2,010</td>\n",
       "      <td>Black</td>\n",
       "      <td>2.85</td>\n",
       "      <td>Nigerian Used</td>\n",
       "      <td>NaN</td>\n",
       "    </tr>\n",
       "    <tr>\n",
       "      <th>7203</th>\n",
       "      <td>Lagos</td>\n",
       "      <td>Mercedes-Benz</td>\n",
       "      <td>GLK-Class 350</td>\n",
       "      <td>2,012</td>\n",
       "      <td>Black</td>\n",
       "      <td>8.65</td>\n",
       "      <td>Foreign Used</td>\n",
       "      <td>85,750</td>\n",
       "    </tr>\n",
       "    <tr>\n",
       "      <th>7204</th>\n",
       "      <td>Abuja</td>\n",
       "      <td>Honda</td>\n",
       "      <td>Accord Crosstour</td>\n",
       "      <td>2,012</td>\n",
       "      <td>Gray</td>\n",
       "      <td>3.38</td>\n",
       "      <td>Nigerian Used</td>\n",
       "      <td>83,308</td>\n",
       "    </tr>\n",
       "  </tbody>\n",
       "</table>\n",
       "<p>7205 rows × 8 columns</p>\n",
       "</div>"
      ],
      "text/plain": [
       "     Location          Maker                 Model   Year  Colour  \\\n",
       "0       Abuja          Honda   Accord Coupe EX V-6  2,011  Silver   \n",
       "1      Ibadan        Hyundai                Sonata  2,012  Silver   \n",
       "2       Lagos          Lexus                RX 350  2,010     Red   \n",
       "3       Abuja  Mercedes-Benz             GLE-Class  2,017    Blue   \n",
       "4      Ibadan         Toyota            Highlander  2,002     Red   \n",
       "...       ...            ...                   ...    ...     ...   \n",
       "7200    Abuja          Honda                 Civic  2,018    Gray   \n",
       "7201    Abuja            BMW                    X3  2,007   White   \n",
       "7202    Abuja         Toyota  RAV4 2.5 Limited 4x4  2,010   Black   \n",
       "7203    Lagos  Mercedes-Benz         GLK-Class 350  2,012   Black   \n",
       "7204    Abuja          Honda      Accord Crosstour  2,012    Gray   \n",
       "\n",
       "      Amount (Million Naira)           Type Distance  \n",
       "0                       2.20  Nigerian Used      NaN  \n",
       "1                       3.50  Nigerian Used  125,000  \n",
       "2                       9.20   Foreign Used  110,852  \n",
       "3                      22.80   Foreign Used   30,000  \n",
       "4                       2.60  Nigerian Used  125,206  \n",
       "...                      ...            ...      ...  \n",
       "7200                    5.70   Foreign Used   65,000  \n",
       "7201                    4.00  Nigerian Used  200,000  \n",
       "7202                    2.85  Nigerian Used      NaN  \n",
       "7203                    8.65   Foreign Used   85,750  \n",
       "7204                    3.38  Nigerian Used   83,308  \n",
       "\n",
       "[7205 rows x 8 columns]"
      ]
     },
     "execution_count": 2,
     "metadata": {},
     "output_type": "execute_result"
    }
   ],
   "source": [
    "car_data = pd.read_csv('Downloads/train.csv')\n",
    "car_data = car_data.drop('VehicleID', axis=1)\n",
    "car_data"
   ]
  },
  {
   "cell_type": "code",
   "execution_count": 3,
   "id": "e735ee11",
   "metadata": {
    "scrolled": false
   },
   "outputs": [
    {
     "data": {
      "text/plain": [
       "Location                     0\n",
       "Maker                        0\n",
       "Model                        0\n",
       "Year                        21\n",
       "Colour                       0\n",
       "Amount (Million Naira)      17\n",
       "Type                       197\n",
       "Distance                  2360\n",
       "dtype: int64"
      ]
     },
     "execution_count": 3,
     "metadata": {},
     "output_type": "execute_result"
    }
   ],
   "source": [
    "car_data.isna().sum()"
   ]
  },
  {
   "cell_type": "code",
   "execution_count": 4,
   "id": "f65c8340",
   "metadata": {},
   "outputs": [
    {
     "data": {
      "text/plain": [
       "Location                   0.00\n",
       "Maker                      0.00\n",
       "Model                      0.00\n",
       "Year                       0.29\n",
       "Colour                     0.00\n",
       "Amount (Million Naira)     0.24\n",
       "Type                       2.73\n",
       "Distance                  32.76\n",
       "dtype: float64"
      ]
     },
     "execution_count": 4,
     "metadata": {},
     "output_type": "execute_result"
    }
   ],
   "source": [
    "car_data.isna().mean().round(4) * 100"
   ]
  },
  {
   "cell_type": "markdown",
   "id": "cfcd8152",
   "metadata": {},
   "source": [
    "### We can see we have alot of missing values in the Distance, type, amount, and year features"
   ]
  },
  {
   "cell_type": "code",
   "execution_count": 5,
   "id": "35de7d6f",
   "metadata": {},
   "outputs": [],
   "source": [
    " #Removing Distance variable since majority of their data is missing\n",
    "car_data = car_data.drop('Distance', axis=1)\n"
   ]
  },
  {
   "cell_type": "code",
   "execution_count": 6,
   "id": "2abbdec8",
   "metadata": {
    "scrolled": true
   },
   "outputs": [
    {
     "name": "stderr",
     "output_type": "stream",
     "text": [
      "/var/folders/wb/ylp2wb51397cgbs8cn3qck3c0000gn/T/ipykernel_72873/2136048549.py:2: FutureWarning: The default value of numeric_only in DataFrame.mean is deprecated. In a future version, it will default to False. In addition, specifying 'numeric_only=None' is deprecated. Select only valid columns or specify the value of numeric_only to silence this warning.\n",
      "  car_data.fillna(car_data.mean())\n"
     ]
    },
    {
     "data": {
      "text/html": [
       "<div>\n",
       "<style scoped>\n",
       "    .dataframe tbody tr th:only-of-type {\n",
       "        vertical-align: middle;\n",
       "    }\n",
       "\n",
       "    .dataframe tbody tr th {\n",
       "        vertical-align: top;\n",
       "    }\n",
       "\n",
       "    .dataframe thead th {\n",
       "        text-align: right;\n",
       "    }\n",
       "</style>\n",
       "<table border=\"1\" class=\"dataframe\">\n",
       "  <thead>\n",
       "    <tr style=\"text-align: right;\">\n",
       "      <th></th>\n",
       "      <th>Location</th>\n",
       "      <th>Maker</th>\n",
       "      <th>Model</th>\n",
       "      <th>Year</th>\n",
       "      <th>Colour</th>\n",
       "      <th>Amount (Million Naira)</th>\n",
       "      <th>Type</th>\n",
       "    </tr>\n",
       "  </thead>\n",
       "  <tbody>\n",
       "    <tr>\n",
       "      <th>0</th>\n",
       "      <td>Abuja</td>\n",
       "      <td>Honda</td>\n",
       "      <td>Accord Coupe EX V-6</td>\n",
       "      <td>2,011</td>\n",
       "      <td>Silver</td>\n",
       "      <td>2.20</td>\n",
       "      <td>Nigerian Used</td>\n",
       "    </tr>\n",
       "    <tr>\n",
       "      <th>1</th>\n",
       "      <td>Ibadan</td>\n",
       "      <td>Hyundai</td>\n",
       "      <td>Sonata</td>\n",
       "      <td>2,012</td>\n",
       "      <td>Silver</td>\n",
       "      <td>3.50</td>\n",
       "      <td>Nigerian Used</td>\n",
       "    </tr>\n",
       "    <tr>\n",
       "      <th>2</th>\n",
       "      <td>Lagos</td>\n",
       "      <td>Lexus</td>\n",
       "      <td>RX 350</td>\n",
       "      <td>2,010</td>\n",
       "      <td>Red</td>\n",
       "      <td>9.20</td>\n",
       "      <td>Foreign Used</td>\n",
       "    </tr>\n",
       "    <tr>\n",
       "      <th>3</th>\n",
       "      <td>Abuja</td>\n",
       "      <td>Mercedes-Benz</td>\n",
       "      <td>GLE-Class</td>\n",
       "      <td>2,017</td>\n",
       "      <td>Blue</td>\n",
       "      <td>22.80</td>\n",
       "      <td>Foreign Used</td>\n",
       "    </tr>\n",
       "    <tr>\n",
       "      <th>4</th>\n",
       "      <td>Ibadan</td>\n",
       "      <td>Toyota</td>\n",
       "      <td>Highlander</td>\n",
       "      <td>2,002</td>\n",
       "      <td>Red</td>\n",
       "      <td>2.60</td>\n",
       "      <td>Nigerian Used</td>\n",
       "    </tr>\n",
       "    <tr>\n",
       "      <th>...</th>\n",
       "      <td>...</td>\n",
       "      <td>...</td>\n",
       "      <td>...</td>\n",
       "      <td>...</td>\n",
       "      <td>...</td>\n",
       "      <td>...</td>\n",
       "      <td>...</td>\n",
       "    </tr>\n",
       "    <tr>\n",
       "      <th>7200</th>\n",
       "      <td>Abuja</td>\n",
       "      <td>Honda</td>\n",
       "      <td>Civic</td>\n",
       "      <td>2,018</td>\n",
       "      <td>Gray</td>\n",
       "      <td>5.70</td>\n",
       "      <td>Foreign Used</td>\n",
       "    </tr>\n",
       "    <tr>\n",
       "      <th>7201</th>\n",
       "      <td>Abuja</td>\n",
       "      <td>BMW</td>\n",
       "      <td>X3</td>\n",
       "      <td>2,007</td>\n",
       "      <td>White</td>\n",
       "      <td>4.00</td>\n",
       "      <td>Nigerian Used</td>\n",
       "    </tr>\n",
       "    <tr>\n",
       "      <th>7202</th>\n",
       "      <td>Abuja</td>\n",
       "      <td>Toyota</td>\n",
       "      <td>RAV4 2.5 Limited 4x4</td>\n",
       "      <td>2,010</td>\n",
       "      <td>Black</td>\n",
       "      <td>2.85</td>\n",
       "      <td>Nigerian Used</td>\n",
       "    </tr>\n",
       "    <tr>\n",
       "      <th>7203</th>\n",
       "      <td>Lagos</td>\n",
       "      <td>Mercedes-Benz</td>\n",
       "      <td>GLK-Class 350</td>\n",
       "      <td>2,012</td>\n",
       "      <td>Black</td>\n",
       "      <td>8.65</td>\n",
       "      <td>Foreign Used</td>\n",
       "    </tr>\n",
       "    <tr>\n",
       "      <th>7204</th>\n",
       "      <td>Abuja</td>\n",
       "      <td>Honda</td>\n",
       "      <td>Accord Crosstour</td>\n",
       "      <td>2,012</td>\n",
       "      <td>Gray</td>\n",
       "      <td>3.38</td>\n",
       "      <td>Nigerian Used</td>\n",
       "    </tr>\n",
       "  </tbody>\n",
       "</table>\n",
       "<p>7205 rows × 7 columns</p>\n",
       "</div>"
      ],
      "text/plain": [
       "     Location          Maker                 Model   Year  Colour  \\\n",
       "0       Abuja          Honda   Accord Coupe EX V-6  2,011  Silver   \n",
       "1      Ibadan        Hyundai                Sonata  2,012  Silver   \n",
       "2       Lagos          Lexus                RX 350  2,010     Red   \n",
       "3       Abuja  Mercedes-Benz             GLE-Class  2,017    Blue   \n",
       "4      Ibadan         Toyota            Highlander  2,002     Red   \n",
       "...       ...            ...                   ...    ...     ...   \n",
       "7200    Abuja          Honda                 Civic  2,018    Gray   \n",
       "7201    Abuja            BMW                    X3  2,007   White   \n",
       "7202    Abuja         Toyota  RAV4 2.5 Limited 4x4  2,010   Black   \n",
       "7203    Lagos  Mercedes-Benz         GLK-Class 350  2,012   Black   \n",
       "7204    Abuja          Honda      Accord Crosstour  2,012    Gray   \n",
       "\n",
       "      Amount (Million Naira)           Type  \n",
       "0                       2.20  Nigerian Used  \n",
       "1                       3.50  Nigerian Used  \n",
       "2                       9.20   Foreign Used  \n",
       "3                      22.80   Foreign Used  \n",
       "4                       2.60  Nigerian Used  \n",
       "...                      ...            ...  \n",
       "7200                    5.70   Foreign Used  \n",
       "7201                    4.00  Nigerian Used  \n",
       "7202                    2.85  Nigerian Used  \n",
       "7203                    8.65   Foreign Used  \n",
       "7204                    3.38  Nigerian Used  \n",
       "\n",
       "[7205 rows x 7 columns]"
      ]
     },
     "execution_count": 6,
     "metadata": {},
     "output_type": "execute_result"
    }
   ],
   "source": [
    "# filling in the missing values with the mean\n",
    "car_data.fillna(car_data.mean())"
   ]
  },
  {
   "cell_type": "code",
   "execution_count": 7,
   "id": "f289d519",
   "metadata": {},
   "outputs": [
    {
     "name": "stdout",
     "output_type": "stream",
     "text": [
      "<class 'pandas.core.frame.DataFrame'>\n",
      "RangeIndex: 7205 entries, 0 to 7204\n",
      "Data columns (total 7 columns):\n",
      " #   Column                  Non-Null Count  Dtype  \n",
      "---  ------                  --------------  -----  \n",
      " 0   Location                7205 non-null   object \n",
      " 1   Maker                   7205 non-null   object \n",
      " 2   Model                   7205 non-null   object \n",
      " 3   Year                    7184 non-null   object \n",
      " 4   Colour                  7205 non-null   object \n",
      " 5   Amount (Million Naira)  7188 non-null   float64\n",
      " 6   Type                    7008 non-null   object \n",
      "dtypes: float64(1), object(6)\n",
      "memory usage: 394.1+ KB\n"
     ]
    }
   ],
   "source": [
    "car_data.info()"
   ]
  },
  {
   "cell_type": "code",
   "execution_count": 8,
   "id": "9620235e",
   "metadata": {},
   "outputs": [
    {
     "data": {
      "text/plain": [
       "Location                    0\n",
       "Maker                       0\n",
       "Model                       0\n",
       "Year                       21\n",
       "Colour                      0\n",
       "Amount (Million Naira)     17\n",
       "Type                      197\n",
       "dtype: int64"
      ]
     },
     "execution_count": 8,
     "metadata": {},
     "output_type": "execute_result"
    }
   ],
   "source": [
    "car_data.isna().sum()"
   ]
  },
  {
   "cell_type": "code",
   "execution_count": 9,
   "id": "e1fc5b52",
   "metadata": {},
   "outputs": [
    {
     "name": "stderr",
     "output_type": "stream",
     "text": [
      "/var/folders/wb/ylp2wb51397cgbs8cn3qck3c0000gn/T/ipykernel_72873/4127982890.py:8: FutureWarning: The default value of numeric_only in DataFrame.mean is deprecated. In a future version, it will default to False. In addition, specifying 'numeric_only=None' is deprecated. Select only valid columns or specify the value of numeric_only to silence this warning.\n",
      "  car_data = car_data.fillna(car_data.mean())\n"
     ]
    }
   ],
   "source": [
    "# replacing the missing cat_columns with their mode\n",
    "most_frequent_value = car_data['Type'].mode()[0]\n",
    "car_data['Type'] = car_data['Type'].fillna(most_frequent_value)\n",
    "\n",
    "most_frequent_value = car_data['Year'].mode()[0]\n",
    "car_data['Year'] = car_data['Year'].fillna(most_frequent_value)\n",
    "\n",
    "car_data = car_data.fillna(car_data.mean())"
   ]
  },
  {
   "cell_type": "code",
   "execution_count": 10,
   "id": "f7adf1ef",
   "metadata": {},
   "outputs": [
    {
     "data": {
      "text/plain": [
       "Location                  0\n",
       "Maker                     0\n",
       "Model                     0\n",
       "Year                      0\n",
       "Colour                    0\n",
       "Amount (Million Naira)    0\n",
       "Type                      0\n",
       "dtype: int64"
      ]
     },
     "execution_count": 10,
     "metadata": {},
     "output_type": "execute_result"
    }
   ],
   "source": [
    "car_data.isna().sum()"
   ]
  },
  {
   "cell_type": "code",
   "execution_count": 11,
   "id": "b0991537",
   "metadata": {},
   "outputs": [
    {
     "data": {
      "image/png": "[encoded data removed]",
      "text/plain": [
       "<Figure size 640x480 with 1 Axes>"
      ]
     },
     "metadata": {},
     "output_type": "display_data"
    }
   ],
   "source": [
    "sns.countplot(data=car_data, x='Colour')\n",
    "plt.xticks(rotation=90)\n",
    "plt.show()\n"
   ]
  },
  {
   "cell_type": "code",
   "execution_count": 12,
   "id": "07dceace",
   "metadata": {},
   "outputs": [
    {
     "data": {
      "image/png": "[encoded data removed]",
      "text/plain": [
       "<Figure size 640x480 with 1 Axes>"
      ]
     },
     "metadata": {},
     "output_type": "display_data"
    }
   ],
   "source": [
    "# seeing the amount distribution \n",
    "sns.kdeplot(data=car_data, x='Amount (Million Naira)', fill=True)\n",
    "plt.show()"
   ]
  },
  {
   "cell_type": "code",
   "execution_count": 13,
   "id": "2d94f394",
   "metadata": {
    "scrolled": false
   },
   "outputs": [
    {
     "data": {
      "text/html": [
       "<div>\n",
       "<style scoped>\n",
       "    .dataframe tbody tr th:only-of-type {\n",
       "        vertical-align: middle;\n",
       "    }\n",
       "\n",
       "    .dataframe tbody tr th {\n",
       "        vertical-align: top;\n",
       "    }\n",
       "\n",
       "    .dataframe thead th {\n",
       "        text-align: right;\n",
       "    }\n",
       "</style>\n",
       "<table border=\"1\" class=\"dataframe\">\n",
       "  <thead>\n",
       "    <tr style=\"text-align: right;\">\n",
       "      <th></th>\n",
       "      <th>Amount (Million Naira)</th>\n",
       "      <th>Location_Ibadan</th>\n",
       "      <th>Location_Lagos</th>\n",
       "      <th>Maker_Audi</th>\n",
       "      <th>Maker_BAW</th>\n",
       "      <th>Maker_BMW</th>\n",
       "      <th>Maker_Bentley</th>\n",
       "      <th>Maker_Brabus</th>\n",
       "      <th>Maker_Buick</th>\n",
       "      <th>Maker_Cadillac</th>\n",
       "      <th>...</th>\n",
       "      <th>Colour_Pink</th>\n",
       "      <th>Colour_Purple</th>\n",
       "      <th>Colour_Red</th>\n",
       "      <th>Colour_Silver</th>\n",
       "      <th>Colour_Teal</th>\n",
       "      <th>Colour_Violet</th>\n",
       "      <th>Colour_White</th>\n",
       "      <th>Colour_Yellow</th>\n",
       "      <th>Type_Foreign Used</th>\n",
       "      <th>Type_Nigerian Used</th>\n",
       "    </tr>\n",
       "  </thead>\n",
       "  <tbody>\n",
       "    <tr>\n",
       "      <th>0</th>\n",
       "      <td>2.2</td>\n",
       "      <td>0</td>\n",
       "      <td>0</td>\n",
       "      <td>0</td>\n",
       "      <td>0</td>\n",
       "      <td>0</td>\n",
       "      <td>0</td>\n",
       "      <td>0</td>\n",
       "      <td>0</td>\n",
       "      <td>0</td>\n",
       "      <td>...</td>\n",
       "      <td>0</td>\n",
       "      <td>0</td>\n",
       "      <td>0</td>\n",
       "      <td>1</td>\n",
       "      <td>0</td>\n",
       "      <td>0</td>\n",
       "      <td>0</td>\n",
       "      <td>0</td>\n",
       "      <td>0</td>\n",
       "      <td>1</td>\n",
       "    </tr>\n",
       "    <tr>\n",
       "      <th>1</th>\n",
       "      <td>3.5</td>\n",
       "      <td>1</td>\n",
       "      <td>0</td>\n",
       "      <td>0</td>\n",
       "      <td>0</td>\n",
       "      <td>0</td>\n",
       "      <td>0</td>\n",
       "      <td>0</td>\n",
       "      <td>0</td>\n",
       "      <td>0</td>\n",
       "      <td>...</td>\n",
       "      <td>0</td>\n",
       "      <td>0</td>\n",
       "      <td>0</td>\n",
       "      <td>1</td>\n",
       "      <td>0</td>\n",
       "      <td>0</td>\n",
       "      <td>0</td>\n",
       "      <td>0</td>\n",
       "      <td>0</td>\n",
       "      <td>1</td>\n",
       "    </tr>\n",
       "    <tr>\n",
       "      <th>2</th>\n",
       "      <td>9.2</td>\n",
       "      <td>0</td>\n",
       "      <td>1</td>\n",
       "      <td>0</td>\n",
       "      <td>0</td>\n",
       "      <td>0</td>\n",
       "      <td>0</td>\n",
       "      <td>0</td>\n",
       "      <td>0</td>\n",
       "      <td>0</td>\n",
       "      <td>...</td>\n",
       "      <td>0</td>\n",
       "      <td>0</td>\n",
       "      <td>1</td>\n",
       "      <td>0</td>\n",
       "      <td>0</td>\n",
       "      <td>0</td>\n",
       "      <td>0</td>\n",
       "      <td>0</td>\n",
       "      <td>1</td>\n",
       "      <td>0</td>\n",
       "    </tr>\n",
       "    <tr>\n",
       "      <th>3</th>\n",
       "      <td>22.8</td>\n",
       "      <td>0</td>\n",
       "      <td>0</td>\n",
       "      <td>0</td>\n",
       "      <td>0</td>\n",
       "      <td>0</td>\n",
       "      <td>0</td>\n",
       "      <td>0</td>\n",
       "      <td>0</td>\n",
       "      <td>0</td>\n",
       "      <td>...</td>\n",
       "      <td>0</td>\n",
       "      <td>0</td>\n",
       "      <td>0</td>\n",
       "      <td>0</td>\n",
       "      <td>0</td>\n",
       "      <td>0</td>\n",
       "      <td>0</td>\n",
       "      <td>0</td>\n",
       "      <td>1</td>\n",
       "      <td>0</td>\n",
       "    </tr>\n",
       "    <tr>\n",
       "      <th>4</th>\n",
       "      <td>2.6</td>\n",
       "      <td>1</td>\n",
       "      <td>0</td>\n",
       "      <td>0</td>\n",
       "      <td>0</td>\n",
       "      <td>0</td>\n",
       "      <td>0</td>\n",
       "      <td>0</td>\n",
       "      <td>0</td>\n",
       "      <td>0</td>\n",
       "      <td>...</td>\n",
       "      <td>0</td>\n",
       "      <td>0</td>\n",
       "      <td>1</td>\n",
       "      <td>0</td>\n",
       "      <td>0</td>\n",
       "      <td>0</td>\n",
       "      <td>0</td>\n",
       "      <td>0</td>\n",
       "      <td>0</td>\n",
       "      <td>1</td>\n",
       "    </tr>\n",
       "  </tbody>\n",
       "</table>\n",
       "<p>5 rows × 1333 columns</p>\n",
       "</div>"
      ],
      "text/plain": [
       "   Amount (Million Naira)  Location_Ibadan  Location_Lagos  Maker_Audi  \\\n",
       "0                     2.2                0               0           0   \n",
       "1                     3.5                1               0           0   \n",
       "2                     9.2                0               1           0   \n",
       "3                    22.8                0               0           0   \n",
       "4                     2.6                1               0           0   \n",
       "\n",
       "   Maker_BAW  Maker_BMW  Maker_Bentley  Maker_Brabus  Maker_Buick  \\\n",
       "0          0          0              0             0            0   \n",
       "1          0          0              0             0            0   \n",
       "2          0          0              0             0            0   \n",
       "3          0          0              0             0            0   \n",
       "4          0          0              0             0            0   \n",
       "\n",
       "   Maker_Cadillac  ...  Colour_Pink  Colour_Purple  Colour_Red  Colour_Silver  \\\n",
       "0               0  ...            0              0           0              1   \n",
       "1               0  ...            0              0           0              1   \n",
       "2               0  ...            0              0           1              0   \n",
       "3               0  ...            0              0           0              0   \n",
       "4               0  ...            0              0           1              0   \n",
       "\n",
       "   Colour_Teal  Colour_Violet  Colour_White  Colour_Yellow  Type_Foreign Used  \\\n",
       "0            0              0             0              0                  0   \n",
       "1            0              0             0              0                  0   \n",
       "2            0              0             0              0                  1   \n",
       "3            0              0             0              0                  1   \n",
       "4            0              0             0              0                  0   \n",
       "\n",
       "   Type_Nigerian Used  \n",
       "0                   1  \n",
       "1                   1  \n",
       "2                   0  \n",
       "3                   0  \n",
       "4                   1  \n",
       "\n",
       "[5 rows x 1333 columns]"
      ]
     },
     "execution_count": 13,
     "metadata": {},
     "output_type": "execute_result"
    }
   ],
   "source": [
    "# Cpnverting the cat_columns to numerical columns\n",
    "car_data = pd.get_dummies(car_data, drop_first=True)\n",
    "car_data.head()"
   ]
  },
  {
   "cell_type": "code",
   "execution_count": 14,
   "id": "f781abea",
   "metadata": {},
   "outputs": [
    {
     "name": "stdout",
     "output_type": "stream",
     "text": [
      "Index(['Amount (Million Naira)', 'Location_Ibadan', 'Location_Lagos',\n",
      "       'Maker_Audi', 'Maker_BAW', 'Maker_BMW', 'Maker_Bentley', 'Maker_Brabus',\n",
      "       'Maker_Buick', 'Maker_Cadillac',\n",
      "       ...\n",
      "       'Colour_Pink', 'Colour_Purple', 'Colour_Red', 'Colour_Silver',\n",
      "       'Colour_Teal', 'Colour_Violet', 'Colour_White', 'Colour_Yellow',\n",
      "       'Type_Foreign Used', 'Type_Nigerian Used'],\n",
      "      dtype='object', length=1333)\n"
     ]
    }
   ],
   "source": [
    "print(car_data.columns)"
   ]
  },
  {
   "cell_type": "code",
   "execution_count": 15,
   "id": "0d639502",
   "metadata": {},
   "outputs": [],
   "source": [
    "X = car_data.drop(['Amount (Million Naira)'], axis=1)\n",
    "y = car_data['Amount (Million Naira)']"
   ]
  },
  {
   "cell_type": "code",
   "execution_count": 16,
   "id": "5adc47fe",
   "metadata": {},
   "outputs": [],
   "source": [
    "from sklearn.model_selection import train_test_split\n",
    "X_train, X_test, y_train, y_test = train_test_split(X,y,test_size=0.2, random_state=42)"
   ]
  },
  {
   "cell_type": "code",
   "execution_count": 17,
   "id": "7e9a4578",
   "metadata": {},
   "outputs": [
    {
     "name": "stdout",
     "output_type": "stream",
     "text": [
      "Random Forest: 0.7529911400287363\n",
      "CatBoostRegressor: 0.8650201498912694\n",
      "Linear regression: 0.6875353815788714\n"
     ]
    }
   ],
   "source": [
    "random = RandomForestRegressor(n_estimators=500, max_depth=10, random_state=42)\n",
    "cat = CatBoostRegressor(learning_rate =0.1, max_depth =10, verbose=0)\n",
    "Lin_reg = LinearRegression(positive=True, n_jobs=1)\n",
    "\n",
    "\n",
    "random.fit(X_train, y_train)\n",
    "random_pred = random.predict(X_test)\n",
    "random_r2 = r2_score(y_test, random_pred)\n",
    "print('Random Forest:',random_r2)\n",
    "\n",
    "cat.fit(X_train, y_train)\n",
    "cat_pred = cat.predict(X_test)\n",
    "cat_r2 = r2_score(y_test, cat_pred)\n",
    "print('CatBoostRegressor:',cat_r2)\n",
    "\n",
    "Lin_reg.fit(X_train, y_train)\n",
    "Lin_pred = Lin_reg.predict(X_test)\n",
    "Lin_r2 = r2_score(y_test, Lin_pred)\n",
    "print('Linear regression:', Lin_r2)"
   ]
  },
  {
   "cell_type": "code",
   "execution_count": 18,
   "id": "07304fed",
   "metadata": {},
   "outputs": [
    {
     "data": {
      "text/plain": [
       "95.29380360945159"
      ]
     },
     "execution_count": 18,
     "metadata": {},
     "output_type": "execute_result"
    }
   ],
   "source": [
    "from sklearn.metrics import mean_squared_error\n",
    "\n",
    "mean_squared_error(y_test, cat_pred)"
   ]
  },
  {
   "cell_type": "markdown",
   "id": "20879602",
   "metadata": {},
   "source": [
    "### CatBoostRegressor is the most effective model on this dataset with r2 score of ~0.87"
   ]
  },
  {
   "cell_type": "code",
   "execution_count": 19,
   "id": "3d760b8d",
   "metadata": {},
   "outputs": [
    {
     "data": {
      "image/png": "[encoded data removed]",
      "text/plain": [
       "<Figure size 640x480 with 1 Axes>"
      ]
     },
     "metadata": {},
     "output_type": "display_data"
    }
   ],
   "source": [
    "plt.scatter(y_test, cat_pred, color='b', label='Predicted vs. Actual')\n",
    "\n",
    "max_value = max(np.max(y_test), np.max(cat_pred))\n",
    "plt.plot([0, max_value], [0, max_value], color='r', label='Prediction')\n",
    "\n",
    "plt.xlabel('Actual Values')\n",
    "plt.ylabel('Predicted Values')\n",
    "plt.title('Carboost: Predicted vs. Actual')\n",
    "\n",
    "plt.legend()\n",
    "\n",
    "plt.show()"
   ]
  },
  {
   "cell_type": "code",
   "execution_count": null,
   "id": "9f9c6f8b",
   "metadata": {},
   "outputs": [],
   "source": []
  }
 ],
 "metadata": {
  "kernelspec": {
   "display_name": "Python 3 (ipykernel)",
   "language": "python",
   "name": "python3"
  },
  "language_info": {
   "codemirror_mode": {
    "name": "ipython",
    "version": 3
   },
   "file_extension": ".py",
   "mimetype": "text/x-python",
   "name": "python",
   "nbconvert_exporter": "python",
   "pygments_lexer": "ipython3",
   "version": "3.10.11"
  }
 },
 "nbformat": 4,
 "nbformat_minor": 5
}
